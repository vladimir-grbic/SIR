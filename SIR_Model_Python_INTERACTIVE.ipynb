{
 "cells": [
  {
   "cell_type": "markdown",
   "metadata": {},
   "source": [
    "# <center>Solving SIR Model in Python</center>"
   ]
  },
  {
   "cell_type": "markdown",
   "metadata": {},
   "source": [
    "### <center style=\"color:blue;\"><i> Vladimir Grbić </i></center>"
   ]
  },
  {
   "cell_type": "markdown",
   "metadata": {},
   "source": [
    "<br/>**Importing packages:**"
   ]
  },
  {
   "cell_type": "code",
   "execution_count": 58,
   "metadata": {},
   "outputs": [],
   "source": [
    "# Display in LaTeX style.\n",
    "from sympy.interactive import printing\n",
    "printing.init_printing(use_latex = True)\n",
    "\n",
    "# For integration.\n",
    "import scipy.integrate \n",
    "\n",
    "# For arrays (Python does not have native arrays).\n",
    "import numpy as np\n",
    "\n",
    "# For graphing.\n",
    "import matplotlib.pyplot as plt \n",
    "\n",
    "# Prevents the pop-up graphs in a separate window.\n",
    "%matplotlib inline \n",
    "\n",
    "# Allows for an interactive widget bar.\n",
    "from ipywidgets import interactive\n"
   ]
  },
  {
   "cell_type": "markdown",
   "metadata": {},
   "source": [
    "<br/>**Defining initial conditions:**"
   ]
  },
  {
   "cell_type": "code",
   "execution_count": 59,
   "metadata": {},
   "outputs": [],
   "source": [
    "S0 = 0.95\n",
    "I0 = 0.05\n",
    "R0 = 0.0\n",
    "\n",
    "#beta = 0.35\n",
    "#gamma = 0.1"
   ]
  },
  {
   "cell_type": "markdown",
   "metadata": {},
   "source": [
    "<br/>**Defining differential equations:**"
   ]
  },
  {
   "cell_type": "code",
   "execution_count": 60,
   "metadata": {},
   "outputs": [],
   "source": [
    "def SIR_model(y, t, beta, gamma):\n",
    "    S, I, R = y\n",
    "    \n",
    "    dS_dt = -beta*S*I\n",
    "    dI_dt = beta*S*I - gamma*I\n",
    "    dR_dt = gamma*I\n",
    "    \n",
    "    return([dS_dt, dI_dt, dR_dt,])"
   ]
  },
  {
   "cell_type": "markdown",
   "metadata": {},
   "source": [
    "<br/>**Defining function which handles the inputs, integration, and plotting all in one:**"
   ]
  },
  {
   "cell_type": "code",
   "execution_count": 61,
   "metadata": {},
   "outputs": [
    {
     "data": {
      "application/vnd.jupyter.widget-view+json": {
       "model_id": "117f5a9da1354ebe93f781e39c95aeda",
       "version_major": 2,
       "version_minor": 0
      },
      "text/plain": [
       "interactive(children=(FloatSlider(value=0.0, description='beta', max=1.0, step=0.01), FloatSlider(value=0.0, d…"
      ]
     },
     "metadata": {},
     "output_type": "display_data"
    }
   ],
   "source": [
    "def sir_interactive_func(beta, gamma):\n",
    "    \n",
    "    # Graph from 0 to 100, include 1000 points.\n",
    "    t = np.linspace(0, 100, 1000) \n",
    "    \n",
    "    # Integrate SIR equations to get the solution.\n",
    "    solution = scipy.integrate.odeint(SIR_model, [S0, I0, R0], t, args=(beta, gamma))\n",
    "    solution = np.array(solution)\n",
    "    \n",
    "    # Make a plot figure.\n",
    "    plt.figure(figsize=[8, 8])\n",
    "    \n",
    "    # Plot three different lines.\n",
    "    plt.plot(t, solution[:, 0], label=\"S(t)\")\n",
    "    plt.plot(t, solution[:, 1], label=\"I(t)\")\n",
    "    plt.plot(t, solution[:, 2], label=\"R(t)\")\n",
    "    \n",
    "    # Include the grid and the legend in the plot.\n",
    "    plt.grid()\n",
    "    plt.legend()\n",
    "    \n",
    "    # Make plot and axis titles.\n",
    "    plt.title(\"SIR Model\")\n",
    "    plt.xlabel(\"Time\")\n",
    "    plt.ylabel(\"Proportions of Populations\")\n",
    "    \n",
    "# Make beta and gamma interractive.\n",
    "interactive_plot = interactive(sir_interactive_func, beta=(0,1,0.01), gamma=(0,1,0.01))\n",
    "\n",
    "# Display interactive plot.\n",
    "interactive_plot\n",
    "\n",
    "\n",
    "# Set the parameters as follows.\n",
    "\n",
    "    #beta  = 0.35\n",
    "    #gamma = 0.10"
   ]
  },
  {
   "cell_type": "code",
   "execution_count": null,
   "metadata": {},
   "outputs": [],
   "source": []
  }
 ],
 "metadata": {
  "kernelspec": {
   "display_name": "Python 3",
   "language": "python",
   "name": "python3"
  },
  "language_info": {
   "codemirror_mode": {
    "name": "ipython",
    "version": 3
   },
   "file_extension": ".py",
   "mimetype": "text/x-python",
   "name": "python",
   "nbconvert_exporter": "python",
   "pygments_lexer": "ipython3",
   "version": "3.7.6"
  }
 },
 "nbformat": 4,
 "nbformat_minor": 4
}
